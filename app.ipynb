{
 "cells": [
  {
   "cell_type": "markdown",
   "id": "6d00b49d-1150-4910-95b7-abce4d4e28f8",
   "metadata": {},
   "source": [
    "# app.py"
   ]
  },
  {
   "cell_type": "code",
   "execution_count": 2,
   "id": "44d9befe-fe4f-41ff-b9ad-f1565acb529c",
   "metadata": {},
   "outputs": [
    {
     "name": "stdout",
     "output_type": "stream",
     "text": [
      "Defaulting to user installation because normal site-packages is not writeable\n",
      "Requirement already satisfied: flask in c:\\programdata\\anaconda3\\lib\\site-packages (1.1.2)\n",
      "Requirement already satisfied: itsdangerous>=0.24 in c:\\programdata\\anaconda3\\lib\\site-packages (from flask) (2.0.1)\n",
      "Requirement already satisfied: Werkzeug>=0.15 in c:\\programdata\\anaconda3\\lib\\site-packages (from flask) (2.0.3)\n",
      "Requirement already satisfied: click>=5.1 in c:\\programdata\\anaconda3\\lib\\site-packages (from flask) (8.0.4)\n",
      "Requirement already satisfied: Jinja2>=2.10.1 in c:\\programdata\\anaconda3\\lib\\site-packages (from flask) (2.11.3)\n",
      "Requirement already satisfied: colorama in c:\\programdata\\anaconda3\\lib\\site-packages (from click>=5.1->flask) (0.4.5)\n",
      "Requirement already satisfied: MarkupSafe>=0.23 in c:\\programdata\\anaconda3\\lib\\site-packages (from Jinja2>=2.10.1->flask) (2.0.1)\n"
     ]
    }
   ],
   "source": [
    "!pip install flask"
   ]
  },
  {
   "cell_type": "code",
   "execution_count": 2,
   "id": "ca2420aa-7508-4a25-969b-7d0d5ec639d9",
   "metadata": {},
   "outputs": [
    {
     "name": "stdout",
     "output_type": "stream",
     "text": [
      "Flask                         1.1.2                                               c:\\programdata\\anaconda3\\lib\\site-packages                   conda\n"
     ]
    }
   ],
   "source": [
    "!pip list -v | grep -i Flask\n"
   ]
  },
  {
   "cell_type": "code",
   "execution_count": null,
   "id": "e59b2311-8e6e-43f5-8be1-36c583288539",
   "metadata": {},
   "outputs": [],
   "source": [
    "import sys\n",
    "print(sys.path)"
   ]
  },
  {
   "cell_type": "code",
   "execution_count": 7,
   "id": "3fcb80f4-92b5-4638-85a7-2278e6c0fdf7",
   "metadata": {},
   "outputs": [],
   "source": [
    "from flask import Flask, render_template, request, jsonify\n",
    "from models import create_table, insert_user, get_users, update_user, delete_user, clear_database"
   ]
  },
  {
   "cell_type": "code",
   "execution_count": 8,
   "id": "73883e00-0af0-4974-a3b1-36a7c07ed75a",
   "metadata": {},
   "outputs": [],
   "source": [
    "app = Flask(__name__)"
   ]
  },
  {
   "cell_type": "code",
   "execution_count": 9,
   "id": "a720d3ee-662a-462c-92e4-10c65914ef54",
   "metadata": {},
   "outputs": [],
   "source": [
    "# clear_database()\n",
    "create_table()"
   ]
  },
  {
   "cell_type": "code",
   "execution_count": 10,
   "id": "2156850f-0e72-47c1-bc4a-1fef54826373",
   "metadata": {},
   "outputs": [],
   "source": [
    "@app.route('/')\n",
    "def home():\n",
    "    insert_user('John Doe', 'johndoe@example.com', 30)\n",
    "    users = get_users()\n",
    "    return render_template('index.html', users=users)"
   ]
  },
  {
   "cell_type": "code",
   "execution_count": 11,
   "id": "b234a51d-49df-418c-9154-4463ee4a78f6",
   "metadata": {},
   "outputs": [],
   "source": [
    "@app.route('/update', methods=['POST'])\n",
    "def update():\n",
    "    user_id = request.form['user_id']\n",
    "    name = request.form['name']\n",
    "    email = request.form['email']\n",
    "    age = request.form['age']\n",
    "    update_user(user_id, name, email, age)\n",
    "    return 'User updated'"
   ]
  },
  {
   "cell_type": "code",
   "execution_count": 12,
   "id": "17226788-1d3c-4159-b38a-601b94f4c8b0",
   "metadata": {},
   "outputs": [],
   "source": [
    "@app.route('/delete_user', methods=['POST'])\n",
    "def delete_user_route():\n",
    "    user_id = request.form['user_id']\n",
    "    delete_user(user_id)\n",
    "    return jsonify({'message': 'User deleted successfully!'})"
   ]
  },
  {
   "cell_type": "code",
   "execution_count": null,
   "id": "08483f71-8668-4124-ad47-9e2e4bf41aac",
   "metadata": {},
   "outputs": [
    {
     "name": "stdout",
     "output_type": "stream",
     "text": [
      " * Serving Flask app \"__main__\" (lazy loading)\n",
      " * Environment: production\n",
      "\u001b[31m   WARNING: This is a development server. Do not use it in a production deployment.\u001b[0m\n",
      "\u001b[2m   Use a production WSGI server instead.\u001b[0m\n",
      " * Debug mode: on\n"
     ]
    },
    {
     "name": "stderr",
     "output_type": "stream",
     "text": [
      " * Running on http://127.0.0.1:5000/ (Press CTRL+C to quit)\n",
      "127.0.0.1 - - [31/Dec/2024 14:52:05] \"GET / HTTP/1.1\" 200 -\n",
      "127.0.0.1 - - [31/Dec/2024 14:52:06] \"GET /favicon.ico HTTP/1.1\" 404 -\n",
      "127.0.0.1 - - [31/Dec/2024 14:52:18] \"POST /update HTTP/1.1\" 200 -\n",
      "127.0.0.1 - - [31/Dec/2024 14:52:23] \"GET / HTTP/1.1\" 200 -\n"
     ]
    }
   ],
   "source": [
    "if __name__ == '__main__':\n",
    "    app.run(debug=True, use_reloader=False)"
   ]
  },
  {
   "cell_type": "code",
   "execution_count": null,
   "id": "94ef0ca3-eae1-4a13-9bac-208284e54ae7",
   "metadata": {},
   "outputs": [],
   "source": []
  }
 ],
 "metadata": {
  "kernelspec": {
   "display_name": "Python [conda env:base] *",
   "language": "python",
   "name": "conda-base-py"
  },
  "language_info": {
   "codemirror_mode": {
    "name": "ipython",
    "version": 3
   },
   "file_extension": ".py",
   "mimetype": "text/x-python",
   "name": "python",
   "nbconvert_exporter": "python",
   "pygments_lexer": "ipython3",
   "version": "3.9.13"
  }
 },
 "nbformat": 4,
 "nbformat_minor": 5
}
